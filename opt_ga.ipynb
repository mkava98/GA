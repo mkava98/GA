{
  "nbformat": 4,
  "nbformat_minor": 0,
  "metadata": {
    "colab": {
      "provenance": []
    },
    "kernelspec": {
      "name": "python3",
      "display_name": "Python 3"
    },
    "language_info": {
      "name": "python"
    }
  },
  "cells": [
    {
      "cell_type": "markdown",
      "source": [
        "#Genetic Algorithms - Fundamentals\n"
      ],
      "metadata": {
        "id": "0WjLV6JuHe7_"
      }
    },
    {
      "cell_type": "markdown",
      "source": [
        "\n",
        "##**Basic Terminology**\n",
        "\n",
        "* <font color='orange'>Population:</font>\n",
        "It is a subset of all the possible (encoded) solutions to the given problem. The population for a GA is analogous to the population for human beings except that instead of human beings, we have Candidate Solutions representing human beings.\n",
        "\n",
        "* <font color='orange'>Chromosomes:</font>\n",
        " A chromosome is one such solution to the given problem.\n",
        "\n",
        "* <font color='orange'>Gene:</font>\n",
        " A gene is one element position of a chromosome.\n",
        "\n",
        "* <font color='orange'> Allele:</font>\n",
        " It is the value a gene takes for a particular chromosome.\n",
        "\n",
        "![](https://www.tutorialspoint.com/genetic_algorithms/images/terminology.jpg)\n",
        "\n"
      ],
      "metadata": {
        "id": "QCmJlulb_Xur"
      }
    },
    {
      "cell_type": "markdown",
      "source": [
        "##**The basic structure of a GA:**\n",
        "\n",
        "![ga algorithm](https://www.tutorialspoint.com/genetic_algorithms/images/basic_structure.jpg)\n"
      ],
      "metadata": {
        "id": "PwKd5oA6-7qu"
      }
    },
    {
      "cell_type": "markdown",
      "source": [
        "##  pseudo-code for a GA"
      ],
      "metadata": {
        "id": "Yz3jLxl9H_E5"
      }
    },
    {
      "cell_type": "markdown",
      "source": [
        "\n",
        "\n",
        "```\n",
        "GA()\n",
        "   initialize population\n",
        "   find fitness of population\n",
        "   \n",
        "   while (termination criteria is reached) do\n",
        "      parent selection\n",
        "      crossover with probability pc\n",
        "      mutation with probability pm\n",
        "      decode and fitness calculation\n",
        "      survivor selection\n",
        "      find best\n",
        "   return best\n",
        "```\n",
        "\n"
      ],
      "metadata": {
        "id": "RDEnlwjyIBqr"
      }
    },
    {
      "cell_type": "markdown",
      "source": [
        "##**Representation**\n",
        "* Binary Representation:\n",
        "\n",
        "![](https://www.tutorialspoint.com/genetic_algorithms/images/binary_representation.jpg)\n",
        "\n",
        "* Real Valued Representation:\n",
        "\n",
        "![](https://www.tutorialspoint.com/genetic_algorithms/images/real_valued_representation.jpg)\n",
        "\n",
        "* Integer Representation:\n",
        "\n",
        "![](https://www.tutorialspoint.com/genetic_algorithms/images/integer_representation.jpg)\n",
        "\n",
        "* Permutation Representation:\n",
        "\n",
        "![](https://www.tutorialspoint.com/genetic_algorithms/images/permutation_representation.jpg)\n"
      ],
      "metadata": {
        "id": "HqJrCpqXI_jD"
      }
    },
    {
      "cell_type": "markdown",
      "source": [
        "## Population\n",
        "\n",
        "note that\n",
        "\n",
        "*   The diversity of the population should be maintained otherwise it might lead to premature convergence\n",
        "*   The population size should not be kept very large as it can cause a GA to slow down, while a smaller population might not be enough for a good mating pool. Therefore, an optimal population size needs to be decided by trial and error.\n",
        "\n",
        "\n"
      ],
      "metadata": {
        "id": "4-VMqU6LJqNz"
      }
    },
    {
      "cell_type": "markdown",
      "source": [
        "##crossover\n",
        "* One Point Crossover\n",
        "\n",
        "![](https://www.tutorialspoint.com/genetic_algorithms/images/one_point_crossover.jpg)\n",
        "\n",
        "* Multi Point Crossover\n",
        "\n",
        "![](https://www.tutorialspoint.com/genetic_algorithms/images/multi_point_crossover.jpg)\n",
        "\n",
        "* Uniform Crossover\n",
        "\n",
        "![](https://www.tutorialspoint.com/genetic_algorithms/images/uniform_crossover.jpg)\n"
      ],
      "metadata": {
        "id": "hs9dP3CjL6lS"
      }
    },
    {
      "cell_type": "markdown",
      "source": [
        "## Mutation\n",
        "\n",
        "* Bit Flip Mutation\n",
        "\n",
        "![](https://www.tutorialspoint.com/genetic_algorithms/images/bit_flip_mutation.jpg)\n",
        "\n",
        "* Swap Mutation\n",
        "\n",
        "![](https://www.tutorialspoint.com/genetic_algorithms/images/swap_mutation.jpg)\n",
        "\n",
        "* Scramble Mutation\n",
        "\n",
        "![](https://www.tutorialspoint.com/genetic_algorithms/images/scramble_mutation.jpg)\n",
        "\n",
        "* Inversion Mutation\n",
        "\n",
        "\n",
        "![](https://www.tutorialspoint.com/genetic_algorithms/images/inversion_mutation.jpg)"
      ],
      "metadata": {
        "id": "DPd5QuHNNTD8"
      }
    },
    {
      "cell_type": "markdown",
      "source": [
        "## Survivor Selection\n",
        "\n",
        "* Age Based Selection\n",
        "\n",
        "![](https://www.tutorialspoint.com/genetic_algorithms/images/age_based_selection.jpg)\n",
        "\n",
        "* Fitness Based Selection\n",
        "\n",
        "![](https://www.tutorialspoint.com/genetic_algorithms/images/fitness_based_selection.jpg)"
      ],
      "metadata": {
        "id": "hcwhiwNyx6Zj"
      }
    },
    {
      "cell_type": "markdown",
      "source": [
        "#  Question:\n",
        " Find the optimum solution x**2 + y**2  with genetic algorithm.\n",
        "\n",
        "where 0 <= x <=10 and 0 <= y <=10\n"
      ],
      "metadata": {
        "id": "CsvqSFmUj8RE"
      }
    },
    {
      "cell_type": "markdown",
      "source": [
        "# Importing Dependencies"
      ],
      "metadata": {
        "id": "ipxoHiBzlcOY"
      }
    },
    {
      "cell_type": "code",
      "source": [
        "import numpy as np\n",
        "from random import randint as rnd"
      ],
      "metadata": {
        "id": "9RphjecDla7J"
      },
      "execution_count": null,
      "outputs": []
    },
    {
      "cell_type": "markdown",
      "source": [
        "# Setting the Problem Parameters"
      ],
      "metadata": {
        "id": "mIxeRXB4lmHQ"
      }
    },
    {
      "cell_type": "code",
      "source": [
        "x_bounds = [0, 10]\n",
        "y_bounds = [0, 10]\n",
        "\n",
        "pop_size = 50\n",
        "epoch = 200\n",
        "mutation_rate = 0.2"
      ],
      "metadata": {
        "id": "0lPAViknlvgZ"
      },
      "execution_count": null,
      "outputs": []
    },
    {
      "cell_type": "markdown",
      "source": [
        "# fitness_function"
      ],
      "metadata": {
        "id": "70R0l8BLmHyM"
      }
    },
    {
      "cell_type": "code",
      "source": [
        "def fitness_function(x, y):\n",
        "    return x**2 + y**2"
      ],
      "metadata": {
        "id": "4i9FKfKKmBoz"
      },
      "execution_count": null,
      "outputs": []
    },
    {
      "cell_type": "markdown",
      "source": [
        "# Initial population"
      ],
      "metadata": {
        "id": "RscrnWtFlwgo"
      }
    },
    {
      "cell_type": "code",
      "source": [
        "population = np.random.uniform(low=[x_bounds[0], y_bounds[0]], high=[x_bounds[1], y_bounds[1]], size=(pop_size, 2))"
      ],
      "metadata": {
        "id": "TaT-RGLql-dq"
      },
      "execution_count": null,
      "outputs": []
    },
    {
      "cell_type": "code",
      "source": [
        "print(population)"
      ],
      "metadata": {
        "id": "_OBfnDjamu4h",
        "colab": {
          "base_uri": "https://localhost:8080/"
        },
        "outputId": "085bd4ac-13c4-4036-cc71-acd3a2120e17"
      },
      "execution_count": null,
      "outputs": [
        {
          "output_type": "stream",
          "name": "stdout",
          "text": [
            "[[4.42388547 0.73234458]\n",
            " [1.61457696 3.11306691]\n",
            " [2.30615602 0.97427289]\n",
            " [3.53360555 3.99480444]\n",
            " [8.8972819  0.87481623]\n",
            " [1.25463492 7.88277788]\n",
            " [0.41248169 1.63364199]\n",
            " [8.63742504 1.52408664]\n",
            " [7.86094619 6.80100262]\n",
            " [4.88059788 3.67759506]\n",
            " [2.90179527 4.08813806]\n",
            " [2.34851896 0.47220016]\n",
            " [9.26400323 7.48293855]\n",
            " [0.90180694 7.92595308]\n",
            " [4.1796523  0.26955743]\n",
            " [6.84478151 8.99895837]\n",
            " [1.74740393 7.01642702]\n",
            " [6.86638712 7.98123753]\n",
            " [4.08038579 3.5484273 ]\n",
            " [9.22989329 3.59418744]\n",
            " [9.63045956 0.42282825]\n",
            " [4.12355114 1.43066183]\n",
            " [2.45168785 9.91991654]\n",
            " [8.55990051 3.12367419]\n",
            " [6.06867809 0.78068605]\n",
            " [7.08027887 3.34044552]\n",
            " [0.40530731 3.61561409]\n",
            " [9.87495998 6.3535431 ]\n",
            " [0.22045053 7.04036531]\n",
            " [8.52421304 0.13935379]\n",
            " [3.07202604 6.57017918]\n",
            " [1.1695018  2.08959075]\n",
            " [6.23747893 5.94176736]\n",
            " [5.62877022 5.02671399]\n",
            " [9.22892943 0.24029109]\n",
            " [6.51092265 4.32397304]\n",
            " [5.48656986 2.31618558]\n",
            " [2.40399154 6.14758138]\n",
            " [3.75382183 9.80609931]\n",
            " [2.41993449 3.4347515 ]\n",
            " [7.38989197 8.21688254]\n",
            " [5.85174949 3.00351233]\n",
            " [7.46568027 4.11712367]\n",
            " [7.60285862 4.06663967]\n",
            " [1.27544356 3.27065068]\n",
            " [9.28779423 7.15902628]\n",
            " [9.40346677 5.59915017]\n",
            " [6.73806629 5.19736354]\n",
            " [3.68577474 2.24244003]\n",
            " [6.12970157 9.21232335]]\n"
          ]
        }
      ]
    },
    {
      "cell_type": "markdown",
      "source": [
        "# crossover"
      ],
      "metadata": {
        "id": "osV8s8bmmRgE"
      }
    },
    {
      "cell_type": "code",
      "source": [
        "def crossover(parents):\n",
        "    crossover_point = np.random.randint(1, len(parents[0]))\n",
        "    offspring1 = np.concatenate((parents[0][:crossover_point], parents[1][crossover_point:]))\n",
        "    offspring2 = np.concatenate((parents[1][:crossover_point], parents[0][crossover_point:]))\n",
        "    return offspring1, offspring2"
      ],
      "metadata": {
        "id": "rZCJWb2qmVbd"
      },
      "execution_count": null,
      "outputs": []
    },
    {
      "cell_type": "markdown",
      "source": [
        "# Mutation"
      ],
      "metadata": {
        "id": "ViXIXJhEmWEc"
      }
    },
    {
      "cell_type": "code",
      "source": [
        "def mutate(child, mutation_rate, x_bounds, y_bounds):\n",
        "    if np.random.rand() < mutation_rate:\n",
        "        gene_to_mutate = np.random.randint(len(child))\n",
        "        if gene_to_mutate == 0:  # mutate x\n",
        "            child[gene_to_mutate] = np.random.uniform(x_bounds[0], x_bounds[1])\n",
        "        else:  # mutate y\n",
        "            child[gene_to_mutate] = np.random.uniform(y_bounds[0], y_bounds[1])\n",
        "    return child"
      ],
      "metadata": {
        "id": "_kw6954-mbhF"
      },
      "execution_count": null,
      "outputs": []
    },
    {
      "cell_type": "markdown",
      "source": [
        "#Main\n"
      ],
      "metadata": {
        "id": "M1y2FmQ087_A"
      }
    },
    {
      "cell_type": "code",
      "source": [
        "for generation in range(epoch):\n",
        "    # Evaluate fitness\n",
        "    fitness = fitness_function(population[:,0], population[:,1])\n",
        "    # Select parents based on fitness\n",
        "    probabilities = fitness / np.sum(fitness)\n",
        "    selected_indices = np.random.choice(range(pop_size), size=pop_size, replace=True, p=probabilities)\n",
        "    parents = population[selected_indices]\n",
        "\n",
        "    # Generate offspring through crossover and mutation\n",
        "    new_population = []\n",
        "    for i in range(pop_size // 2):\n",
        "        parent1, parent2 = parents[i * 2], parents[i * 2 + 1]\n",
        "        offspring1, offspring2 = crossover([parent1, parent2])\n",
        "        offspring1 = mutate(offspring1, mutation_rate, x_bounds, y_bounds)\n",
        "        offspring2 = mutate(offspring2, mutation_rate, x_bounds, y_bounds)\n",
        "        new_population.extend([offspring1, offspring2])\n",
        "\n",
        "    population = np.array(new_population)\n",
        "\n",
        "# Find the best solution\n",
        "best_idx = np.argmin(fitness_function(population[:, 0], population[:, 1]))\n",
        "best_solution = population[best_idx]\n",
        "print(\"Best solution:\", best_solution)\n",
        "print(\"Fitness:\", fitness_function(*best_solution))"
      ],
      "metadata": {
        "colab": {
          "base_uri": "https://localhost:8080/"
        },
        "id": "VArNRmC8mfml",
        "outputId": "68bb38ca-29a8-46c0-c237-8e547de6e0ec"
      },
      "execution_count": null,
      "outputs": [
        {
          "output_type": "stream",
          "name": "stdout",
          "text": [
            "Best solution: [4.63448631 7.30013249]\n",
            "Fitness: 74.77039770692015\n"
          ]
        }
      ]
    }
  ]
}